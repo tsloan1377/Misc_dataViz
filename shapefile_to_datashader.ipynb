{
 "cells": [
  {
   "cell_type": "markdown",
   "metadata": {},
   "source": [
    "# shapefile_to_datashader"
   ]
  },
  {
   "cell_type": "markdown",
   "metadata": {},
   "source": [
    "Some code to process timestamped geospatial trajectories into a 3D array for easier use downstream in visualization packages or other software"
   ]
  },
  {
   "cell_type": "markdown",
   "metadata": {},
   "source": [
    "##### Imports"
   ]
  },
  {
   "cell_type": "code",
   "execution_count": 1,
   "metadata": {},
   "outputs": [],
   "source": [
    "import numpy as np\n",
    "import pandas as pd\n",
    "import shapefile\n",
    "\n",
    "import datashader as ds\n",
    "import datashader.transfer_functions as tf\n",
    "from datashader.utils import export_image\n",
    "\n",
    "from colorcet import fire\n",
    "from matplotlib import cm"
   ]
  },
  {
   "cell_type": "markdown",
   "metadata": {},
   "source": [
    "Data source:\n",
    "    Download the dataset from the Montreal open data portal:\n",
    "        http://donnees.ville.montreal.qc.ca/dataset/mtl-trajet"
   ]
  },
  {
   "cell_type": "markdown",
   "metadata": {},
   "source": [
    "##### Paths"
   ]
  },
  {
   "cell_type": "code",
   "execution_count": 2,
   "metadata": {},
   "outputs": [],
   "source": [
    "base_path = 'Z:\\\\Open_data_sets\\\\Montreal_open_data\\\\mtlTrajet\\\\2017\\\\'\n",
    "shp_filepath = base_path + 'trajets_mtl_trajet_2017.shp'"
   ]
  },
  {
   "cell_type": "markdown",
   "metadata": {},
   "source": [
    "### Load the shapefile"
   ]
  },
  {
   "cell_type": "code",
   "execution_count": 3,
   "metadata": {},
   "outputs": [
    {
     "name": "stdout",
     "output_type": "stream",
     "text": [
      "<class 'list'>\n",
      "(185285,)\n"
     ]
    }
   ],
   "source": [
    "mtlTrajet_sf = shapefile.Reader(shp_filepath)\n",
    "shapes = mtlTrajet_sf.shapes()\n",
    "print(type(shapes))\n",
    "print(np.shape(shapes))"
   ]
  },
  {
   "cell_type": "markdown",
   "metadata": {},
   "source": [
    "##### 'Wrangle' the shapefile points into a NumPy array."
   ]
  },
  {
   "cell_type": "code",
   "execution_count": null,
   "metadata": {},
   "outputs": [],
   "source": [
    "# This may take a LONG time.\n",
    "array_shapes = np.empty([1,2]) \n",
    "\n",
    "for i in range(0,len(shapes)-1):\n",
    "    curr_coords = np.asarray(shapes[i].points)\n",
    "    array_shapes = np.row_stack((array_shapes, curr_coords)) \n",
    "    \n",
    "print(np.shape(array_shapes)) "
   ]
  },
  {
   "cell_type": "markdown",
   "metadata": {},
   "source": [
    "##### 'Wrangle' the NumPy array to a Pandas DataFrame to visualize in DataShader"
   ]
  },
  {
   "cell_type": "code",
   "execution_count": null,
   "metadata": {},
   "outputs": [],
   "source": [
    "df = pd.DataFrame(data=array_shapes[1:,:],columns=['x','y'])\n",
    "display(df)"
   ]
  },
  {
   "cell_type": "markdown",
   "metadata": {},
   "source": [
    "##### Set the GPS bounds of the plot"
   ]
  },
  {
   "cell_type": "code",
   "execution_count": null,
   "metadata": {},
   "outputs": [],
   "source": [
    "xmin = -74\n",
    "xmax = -73.4\n",
    "ymin = 45.3\n",
    "ymax = 45.8\n",
    "x_range = [xmin, xmax]\n",
    "y_range = [ymin, ymax]"
   ]
  },
  {
   "cell_type": "markdown",
   "metadata": {},
   "source": [
    "##### DataShader aggregate plot"
   ]
  },
  {
   "cell_type": "code",
   "execution_count": null,
   "metadata": {},
   "outputs": [],
   "source": [
    "cvs = ds.Canvas(plot_width=1000, plot_height=1000,x_range=x_range, y_range=y_range)  \n",
    "agg = cvs.points(df, 'x', 'y')\n",
    "\n",
    "img = tf.shade(agg, cmap=cm.inferno, how='log')\n",
    "display(img)\n",
    "\n",
    "figname = 'datashader_image.png'\n",
    "export_image(img, figname, background=\"black\")   "
   ]
  },
  {
   "cell_type": "code",
   "execution_count": null,
   "metadata": {},
   "outputs": [],
   "source": []
  }
 ],
 "metadata": {
  "kernelspec": {
   "display_name": "Python 3",
   "language": "python",
   "name": "python3"
  },
  "language_info": {
   "codemirror_mode": {
    "name": "ipython",
    "version": 3
   },
   "file_extension": ".py",
   "mimetype": "text/x-python",
   "name": "python",
   "nbconvert_exporter": "python",
   "pygments_lexer": "ipython3",
   "version": "3.6.3"
  },
  "varInspector": {
   "cols": {
    "lenName": 16,
    "lenType": 16,
    "lenVar": 40
   },
   "kernels_config": {
    "python": {
     "delete_cmd_postfix": "",
     "delete_cmd_prefix": "del ",
     "library": "var_list.py",
     "varRefreshCmd": "print(var_dic_list())"
    },
    "r": {
     "delete_cmd_postfix": ") ",
     "delete_cmd_prefix": "rm(",
     "library": "var_list.r",
     "varRefreshCmd": "cat(var_dic_list()) "
    }
   },
   "types_to_exclude": [
    "module",
    "function",
    "builtin_function_or_method",
    "instance",
    "_Feature"
   ],
   "window_display": false
  }
 },
 "nbformat": 4,
 "nbformat_minor": 2
}
